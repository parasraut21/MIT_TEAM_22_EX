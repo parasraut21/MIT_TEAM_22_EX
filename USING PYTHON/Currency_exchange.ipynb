{
 "cells": [
  {
   "cell_type": "code",
   "execution_count": 19,
   "id": "ebd5c571-61f2-4e88-ac3a-2e7ed1b3ea41",
   "metadata": {},
   "outputs": [
    {
     "data": {
      "application/vnd.jupyter.widget-view+json": {
       "model_id": "029c5a5d0ab645b9a7885184b0b73776",
       "version_major": 2,
       "version_minor": 0
      },
      "text/plain": [
       "interactive(children=(Dropdown(description='currency', options=('Unnamed: 0', 'Algerian dinar   (DZD)         …"
      ]
     },
     "metadata": {},
     "output_type": "display_data"
    },
    {
     "data": {
      "text/plain": [
       "<function __main__.plot_period(currency, duration, year=None, month=None, week=None)>"
      ]
     },
     "execution_count": 19,
     "metadata": {},
     "output_type": "execute_result"
    }
   ],
   "source": [
    "import pandas as pd\n",
    "import matplotlib.pyplot as plt\n",
    "from ipywidgets import interact, widgets\n",
    "\n",
    "# Load exchange rate dataset with corrected date format\n",
    "exchange_rates = pd.read_csv(\"Exchange_Rate file/combined.csv\", parse_dates=['Date'], dayfirst=False)\n",
    "exchange_rates.set_index('Date', inplace=True)\n",
    "\n",
    "# Interpolate missing values in the dataset\n",
    "exchange_rates.interpolate(method='linear', inplace=True)\n",
    "\n",
    "# Extract years, months, and weeks from the data\n",
    "years = exchange_rates.index.year.unique()\n",
    "months = exchange_rates.index.month.unique()\n",
    "weeks = exchange_rates.index.isocalendar().week.unique()\n",
    "\n",
    "# Get available currencies\n",
    "available_currencies = exchange_rates.columns\n",
    "\n",
    "# Function to plot currency exchange rates against USD for a specific duration\n",
    "def plot_period(currency, duration, year=None, month=None, week=None):\n",
    "    plt.figure(figsize=(10, 6))\n",
    "\n",
    "    # Filter data based on selected year, month, week, or duration\n",
    "    if duration == 'Year':\n",
    "        plot_data = exchange_rates[currency].loc[exchange_rates.index.year == year]\n",
    "    elif duration == 'Month':\n",
    "        plot_data = exchange_rates[currency].loc[(exchange_rates.index.year == year) & (exchange_rates.index.month == month)]\n",
    "    elif duration == 'Week':\n",
    "        plot_data = exchange_rates[currency].loc[(exchange_rates.index.year == year) & (exchange_rates.index.month == month) & (exchange_rates.index.isocalendar().week == week)]\n",
    "    elif duration == 'Quarter':\n",
    "        plot_data = exchange_rates[currency].loc[exchange_rates.index.year == year].resample('Q').mean()  # Resample data to quarterly frequency for the selected year\n",
    "    else:\n",
    "        plot_data = exchange_rates[currency]\n",
    "\n",
    "    plt.plot(plot_data.index, plot_data, label=f'{currency} against USD', color='blue')\n",
    "    plt.xlabel('Date')\n",
    "    plt.ylabel(f'Value of 1 {currency} in USD')\n",
    "    plt.title(f'Exchange Rate between 1 USD and {currency} ({duration} duration)')\n",
    "    plt.legend()\n",
    "    plt.grid(True)\n",
    "\n",
    "    # Find dates with the highest and lowest rates\n",
    "    if duration != 'Full':\n",
    "        highest_rate_date = plot_data.idxmax()\n",
    "        lowest_rate_date = plot_data.idxmin()\n",
    "        highest_rate = plot_data.max()\n",
    "        lowest_rate = plot_data.min()\n",
    "\n",
    "        plt.text(highest_rate_date, highest_rate, f'Highest: {highest_rate_date.strftime(\"%Y-%m-%d\")} ({highest_rate})', \n",
    "                 fontsize=8, ha='center', va='bottom', color='red')\n",
    "\n",
    "        plt.text(lowest_rate_date, lowest_rate, f'Lowest: {lowest_rate_date.strftime(\"%Y-%m-%d\")} ({lowest_rate})', \n",
    "                 fontsize=8, ha='center', va='top', color='green')\n",
    "\n",
    "    plt.show()\n",
    "\n",
    "# Interactive dropdown menus\n",
    "interact(plot_period,\n",
    "         currency=widgets.Dropdown(options=available_currencies, value=available_currencies[0]),\n",
    "         duration=widgets.Dropdown(options=['Full', 'Year', 'Month', 'Week', 'Quarter'], value='Full'),\n",
    "         year=widgets.Dropdown(options=years, description='Year:', disabled=False),\n",
    "         month=widgets.Dropdown(options=months, description='Month:', disabled=False),\n",
    "         week=widgets.Dropdown(options=weeks, description='Week:', disabled=False))\n",
    "\n",
    "\n",
    "\n",
    "######################"
   ]
  }
 ],
 "metadata": {
  "kernelspec": {
   "display_name": "Python 3 (ipykernel)",
   "language": "python",
   "name": "python3"
  },
  "language_info": {
   "codemirror_mode": {
    "name": "ipython",
    "version": 3
   },
   "file_extension": ".py",
   "mimetype": "text/x-python",
   "name": "python",
   "nbconvert_exporter": "python",
   "pygments_lexer": "ipython3",
   "version": "3.10.9"
  }
 },
 "nbformat": 4,
 "nbformat_minor": 5
}
